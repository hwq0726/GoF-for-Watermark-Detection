{
 "cells": [
  {
   "cell_type": "code",
   "execution_count": 2,
   "id": "ffa2eab8",
   "metadata": {},
   "outputs": [],
   "source": [
    "import pickle\n",
    "import numpy as np\n",
    "from detect_utils import ConfigManager, StatisticalTests, PhiDivergenceTest"
   ]
  },
  {
   "cell_type": "markdown",
   "id": "6ff0c9cd",
   "metadata": {},
   "source": [
    "### Step 1: Load pivotal statistics and apply transformations\n",
    "\n",
    "1. **Gumbel-max**  \n",
    "   - No transformation needed  \n",
    "\n",
    "2. **Inverse-Transform**  \n",
    "   - No transformation needed  \n",
    "\n",
    "3. **SynthID**  \n",
    "   - Apply the **Irwin–Hall distribution** to transform the data to a uniform distribution under the null hypothesis  \n",
    "\n",
    "\n",
    "The pivotal statistics are stored in a NumPy array with shape `(num_samples, num_tokens)`.  "
   ]
  },
  {
   "cell_type": "code",
   "execution_count": 19,
   "id": "3ef3cca3",
   "metadata": {},
   "outputs": [
    {
     "name": "stdout",
     "output_type": "stream",
     "text": [
      "data shape should be (num_samples, num_tokens): (100, 400)\n"
     ]
    }
   ],
   "source": [
    "with open('example_data_gumbel.pkl', 'rb') as f:\n",
    "    data = pickle.load(f)\n",
    "print(f\"data shape should be (num_samples, num_tokens): {data.shape}\")\n",
    "\n",
    "# Perform necessary transformations (if needed, simply use the cdf function of the null distribution to transform the data):"
   ]
  },
  {
   "cell_type": "markdown",
   "id": "0214e2be",
   "metadata": {},
   "source": [
    "### Step 2: Initialize and perform statistical tests\n",
    "\n",
    "1. **Set the significance level**  \n",
    "   - Default: `0.05`\n",
    "\n",
    "2. **Initialize the statistical tests**  \n",
    "   - The third argument supports:  \n",
    "     - **`EXP`**: Gumbel-max, SynthID (after transformation)  \n",
    "     - **`ITSEdit`**: Inverse-Transform  \n",
    "\n",
    "3. **Define the tests to perform**  \n",
    "   - Available tests (first 5 tests are baselines):\n",
    "     - `ars`\n",
    "     - `log`\n",
    "     - `its_neg`\n",
    "     - `simple_sum`\n",
    "     - `sum_based`  \n",
    "     - `phi_divergence`  \n",
    "     - `kuiper`  \n",
    "     - `kolmogorov`  \n",
    "     - `anderson`  \n",
    "     - `cramer`  \n",
    "     - `watson`  \n",
    "     - `neyman`  \n",
    "     - `chi_squared`  \n",
    "     - `rao` (not used in the paper)\n",
    "     - `greenwood` (not used in the paper)\n",
    "\n",
    "> **Note:** Additional tests such as `head_runs` and `z_score` can be found in `detect_utils.py`, but these were not used in the paper and are **not recommended**.  \n"
   ]
  },
  {
   "cell_type": "code",
   "execution_count": 17,
   "id": "198f5535",
   "metadata": {},
   "outputs": [
    {
     "name": "stdout",
     "output_type": "stream",
     "text": [
      "Working on Sum-based Test\n",
      "Type II error: 0.0\n",
      "====================\n",
      "Working on Phi divergence based test\n",
      "Type II error: 0.0\n",
      "====================\n",
      "Working on Kuiper’s Test\n",
      "Type II error: 0.0\n",
      "====================\n",
      "Working on Kolmogorov-Smirnov Test\n",
      "Type II error: 0.0\n",
      "====================\n",
      "Working on Anderson-Darling Test\n",
      "Type II error: 0.0\n",
      "====================\n",
      "Working on Cramér–von Mises Test\n",
      "Type II error: 0.0\n",
      "====================\n",
      "Working on Watson's Test\n",
      "Type II error: 0.0\n",
      "====================\n",
      "Working on Neyman Smooth Test\n",
      "Type II error: 0.0\n",
      "====================\n",
      "Working on Chi-Squared Test\n",
      "Type II error: 0.0\n",
      "====================\n"
     ]
    }
   ],
   "source": [
    "# Set the significance level, default is 0.05.\n",
    "alpha = 0.01\n",
    "config_manager = ConfigManager()\n",
    "if alpha != 0.05:\n",
    "    for test_name in config_manager.configs.keys():\n",
    "        config_manager.set_config(test_name, alpha=alpha)\n",
    "\n",
    "# Initialize the statistical tests\n",
    "tests_list = ['sum_based', 'phi_divergence', 'kuiper', 'kolmogorov', 'anderson',\n",
    "                 'cramer', 'watson', 'neyman', 'chi_squared']\n",
    "stat_tests = StatisticalTests(data, config_manager, 'EXP')\n",
    "for test in tests_list:\n",
    "    results, _ = stat_tests.perform_statistical_test(test)\n",
    "    print(f\"Type II error: {1- results[-1]}\")\n",
    "    print('='*20)"
   ]
  },
  {
   "cell_type": "markdown",
   "id": "46fb738c",
   "metadata": {},
   "source": [
    "By calling the `perform_statistical_test` function, you can run statistical tests on the pivotal statistics.  \n",
    "The function returns two values:  \n",
    "\n",
    "1. **Type II error**  \n",
    "   - Shape: `(num_samples)`  \n",
    "   - Represents the type II error across different sample sizes  \n",
    "\n",
    "2. **Test statistics**  \n",
    "   - The computed statistic(s) for the chosen test  \n",
    "\n",
    "\n",
    "\n",
    "\n"
   ]
  }
 ],
 "metadata": {
  "kernelspec": {
   "display_name": "watermark",
   "language": "python",
   "name": "python3"
  },
  "language_info": {
   "codemirror_mode": {
    "name": "ipython",
    "version": 3
   },
   "file_extension": ".py",
   "mimetype": "text/x-python",
   "name": "python",
   "nbconvert_exporter": "python",
   "pygments_lexer": "ipython3",
   "version": "3.9.23"
  }
 },
 "nbformat": 4,
 "nbformat_minor": 5
}
